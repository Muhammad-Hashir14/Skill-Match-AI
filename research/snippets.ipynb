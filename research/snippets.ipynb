{
 "cells": [
  {
   "cell_type": "code",
   "execution_count": 66,
   "id": "64b25c9d",
   "metadata": {},
   "outputs": [
    {
     "name": "stdout",
     "output_type": "stream",
     "text": [
      "Skill Match AI\n"
     ]
    }
   ],
   "source": [
    "print(\"Skill Match AI\")"
   ]
  },
  {
   "cell_type": "code",
   "execution_count": 67,
   "id": "fa44892f",
   "metadata": {},
   "outputs": [
    {
     "data": {
      "text/plain": [
       "'C:\\\\Users\\\\PMLS\\\\Desktop\\\\skillmatchai\\\\Skill-Match-AI\\\\Data\\\\resumes'"
      ]
     },
     "execution_count": 67,
     "metadata": {},
     "output_type": "execute_result"
    }
   ],
   "source": [
    "%pwd"
   ]
  },
  {
   "cell_type": "code",
   "execution_count": 68,
   "id": "b18a15d2",
   "metadata": {},
   "outputs": [
    {
     "data": {
      "text/plain": [
       "'C:\\\\Users\\\\PMLS\\\\Desktop\\\\skillmatchai\\\\Skill-Match-AI'"
      ]
     },
     "execution_count": 68,
     "metadata": {},
     "output_type": "execute_result"
    }
   ],
   "source": [
    "import os\n",
    "os.chdir(r\"C:\\Users\\PMLS\\Desktop\\skillmatchai\\Skill-Match-AI\")\n",
    "%pwd"
   ]
  },
  {
   "cell_type": "code",
   "execution_count": 69,
   "id": "1464607d",
   "metadata": {},
   "outputs": [],
   "source": [
    "from langchain.document_loaders import PyPDFLoader, DirectoryLoader"
   ]
  },
  {
   "cell_type": "code",
   "execution_count": 70,
   "id": "32f2e5e0",
   "metadata": {},
   "outputs": [],
   "source": [
    "def load_doc(resumes):\n",
    "    loader = DirectoryLoader(resumes, glob=\"*.pdf\", loader_cls=PyPDFLoader)\n",
    "    text = loader.load()\n",
    "    return text"
   ]
  },
  {
   "cell_type": "code",
   "execution_count": 71,
   "id": "adbc736f",
   "metadata": {},
   "outputs": [],
   "source": [
    "text = load_doc(\"Data/resumes\")"
   ]
  },
  {
   "cell_type": "code",
   "execution_count": 72,
   "id": "bbbc0c37",
   "metadata": {},
   "outputs": [
    {
     "data": {
      "text/plain": [
       "[Document(metadata={'producer': 'Canva', 'creator': 'Canva', 'creationdate': '2025-07-01T13:30:22+00:00', 'title': 'Black and White Simple Business School Graduate Corporate Resume', 'moddate': '2025-07-01T13:30:22+00:00', 'keywords': 'DAGr7MiUKB4,BAGOo-AZu6Q,0', 'author': 'Hashir Khatri', 'source': 'Data\\\\resumes\\\\Muhammmad_Hashir.pdf', 'total_pages': 1, 'page': 0, 'page_label': '1'}, page_content='To pursue a role where I can integrate my technical skills in data analysis and machine learning with creative\\nproblem-solving to deliver meaningful insights and drive performance improvements, while gaining hands-on\\nexperience in the industry. \\nPandas\\nNumPy \\nMatplotlib\\nTensorFlow\\nKeras\\nScikit-Learn\\nSelenium\\nStreamlit\\nTransformers\\nBytewise Limited\\nData Science Intern\\nNLP Preprocessing App\\nLearning and implementing the given tasks and creating projects based on the provided\\nresources.erence to financial guidelines.\\nBuilt an NLP preprocessing tool using NLTK, supporting lemmatization, stemming, and stop words\\nremoval.\\nDesigned a Streamlit-based UI allowing users to upload text and view processed results interactively.\\nEcomile Monitor\\nBS Computer Science Won DS Competition in GDSC Code Jam\\nIntermediate - Pre Engineering\\nParticipated in Zindigi Prize Regionals\\nCertification in AI \\nMachine Learning Intern\\nFuel Prediction System\\nFinal Year\\nFeb 2022 – Feb 2026 \\n2019 – 2021 \\nSindh Madressatul Islam University\\nSM Government Science College\\nMehran University of Engineering and Technology\\nPIAIC - Presidential Initiative for AI and Computing\\nEfficiently sourced and synthesized diverse data for comprehensive analysis. \\nExecuted meticulous data preprocessing for integrity and gained insights for contextual significance. \\nApplied advanced predictive modeling to optimize fuel consumption forecasts\\nDeveloped a fuel prediction app using synthetic data to build and test the prototype.\\nImplemented machine learning models to enhance prediction accuracy and overall performance.\\nAchieved 70% accuracy on synthetic data, showing strong potential for real-world use.\\nSep-2023 - April-2024\\nMarch-2023 - July-2024 \\nAI ENGINEER\\n03313267635 · hashirgohar@gmail.com\\nKarachi, Pakistan\\nGithub: https://github.com/Muhammad-Hashir14\\nLinkedIn: www.linkedin.com/in/muhammad-hashir-54a08b26a\\nMuhammad Hashir\\nPROFESSIONAL EXPERIENCE\\nPROJECTS\\nEDUCATION & CERTIFICATIONS EXTRACURRICULAR ACTIVITIES\\nSKILLS\\nSindh Madressatul Islam University'),\n",
       " Document(metadata={'producer': 'Microsoft® Word 2016', 'creator': 'Microsoft® Word 2016', 'creationdate': '2025-04-28T17:54:10+05:00', 'author': 'Talha Irfan', 'moddate': '2025-04-28T17:54:10+05:00', 'source': 'Data\\\\resumes\\\\MY_RESUME[1].pdf', 'total_pages': 1, 'page': 0, 'page_label': '1'}, page_content='MUHAMMAD TALHA IRFAN  \\nKarachi, Pakistan | +92 308 2733114 | muhammadtalha2715@gmail.com  \\nWEB DEVELOPER  \\nA Web Developer focused on frontend development with a specialization in React.js and Next.js. Skilled in building \\nresponsive, scalable, and visually engaging web applications. Seeking an opportunity to apply creative problem -solving and \\ntechnical expertise in a professional environment, while continuously learning new technologies and contributing to \\nimpactful projects \\nEDUCATION  \\nBS COMPUTER SCIENCE                                                                    INTERMEDIATE \\nSindh Madressatul Islam University                                                Nabi Bagh Z.M Government Scie nce College \\n7th Semester                                                                                       F.Sc (Pre -Engineering) \\n2022-2026                                                                                           2019-2021 \\nEXPERIENCE  \\nReact Js Intern | 360XpertSolutions \\nFebruary 2025 – Present \\n\\uf0b7 Developing responsive and dynamic user interfaces using React.js and Next.js frameworks.  \\n\\uf0b7 Integrating APIs and enhancing front-end animations to improve user experience and performance.  \\n\\uf0b7 Learning and implementing backend functionalities using Node.js to support full-stack development. \\nFrontend Developer | CodeBite  (NEP-NICS) \\nOctober 2023 – April 2024 \\n\\uf0b7 Designed and developed user interfaces focusing on responsiveness, layout optimization, and usability. \\n\\uf0b7 Collaborated with design and backend teams to ensure seamless integration of UI/UX elements.  \\n\\uf0b7 Enhanced website performance through clean code practices, resulting in improved load times and accessibility.  \\nWeb Developer Intern | Linuro Systems  \\nApril 2021 – February 2023 \\n\\uf0b7 Built static and responsive websites using HTML, CSS, Bootstrap, and JavaScript.  \\n\\uf0b7 Self-learned advanced techniques to enhance project quality and independently implemented improvements.  \\n\\uf0b7 Successfully transitioned from intern to full-time Web Developer after demonstrating strong technical skills.  \\n \\nCERTIFICATIONS                               SKILLS  \\n\\uf0b7 Web Application Development From SMIT          \\n\\uf0b7 Graphic Designing From Ibrahim Jamal institute for \\nInformation technology                                                  \\n\\uf0b7 MS- Office From Haji Ayub Memorial Institute \\n\\uf0b7 HTML / CSS  \\n\\uf0b7 Javascript    \\n\\uf0b7 Python  \\n\\uf0b7 Bootstrap     \\n \\n\\uf0b7 React Js    \\n\\uf0b7 Firebase    \\n\\uf0b7 Adobe Photoshop    \\n\\uf0b7 Adobe Illustrator'),\n",
       " Document(metadata={'producer': 'Canva', 'creator': 'Canva', 'creationdate': '2025-02-08T14:27:01+00:00', 'title': 'M.Hashir', 'moddate': '2025-02-08T14:27:01+00:00', 'keywords': 'DAGOs5KHHyQ,BAGOo-AZu6Q,0', 'author': 'Hashir Khatri', 'source': 'Data\\\\resumes\\\\M_Hashir.pdf', 'total_pages': 1, 'page': 0, 'page_label': '1'}, page_content='karachi, Pakistan | hashirgohar@gmail.com | +92 3313267635\\nMUHAMMAD HASHIR\\nDATA SCIENTIST / AI ENGINEER\\nTo pursue a role where I can integrate my technical skills in data analysis and machine learning with\\ncreative problem-solving to deliver meaningful insights and drive performance improvements, while\\ngaining hands-on experience in the industry.\\nEDUCATION\\nBS Computer Science | FINAL YEAR\\nSindh Madressatul Islam University\\nKarachi, Pakistan \\nFeb 2022 – Feb 2026 \\nIntermediate in Pre Engineering\\nSM Government Science College \\nKarachi, Pakistan\\n2019 – 2021 \\nCERTIFICATIONS\\nLINKS\\nSKILLS\\nWORK EXPERIENCE\\nEfficiently sourced and synthesized diverse data for comprehensive analysis. \\nExecuted meticulous data preprocessing for integrity and gained\\n       insights for contextual significance.\\nApplied advanced predictive modeling to optimize fuel consumption forecasts. \\nMachine Learning Intern | Ecomile Monitor - NEP-NICS Karachi Sep-2023 - April-2024\\nLearning and implementing the given tasks and creating projects\\n      based on the provided resources. \\nLinkedIn Github\\nMarch-2023 - July-2024\\nData Preprocessing/ EDA/ Feature Engineering\\nDashboard Creation\\nMachine Learning / Deep Learning\\nWeb Scraping\\nAPI Development\\nLLMs\\nTOOLS\\nPython\\nNumpy/ Pandas/ Matplotlib/ Seaborn\\nScikit Learn/ Tensorflow Keras\\nFlask/ Streamlit\\nPower BI\\nBeautiful Soup/ Selenium/ Requests\\nCertified Artificial Intelligence Developer\\nPresidential Initiative of Artificial Intelligence and Computing\\nKarachi, Pakistan \\nData Science Intern | Bytewise Limited')]"
      ]
     },
     "execution_count": 72,
     "metadata": {},
     "output_type": "execute_result"
    }
   ],
   "source": [
    "text"
   ]
  },
  {
   "cell_type": "code",
   "execution_count": 73,
   "id": "126ac452",
   "metadata": {},
   "outputs": [],
   "source": [
    "from langchain.embeddings import HuggingFaceEmbeddings\n",
    "\n",
    "def load_HF_Embeddings():\n",
    "    embeddings = HuggingFaceEmbeddings(model_name=\"sentence-transformers/all-MiniLM-L6-v2\")\n",
    "    return embeddings"
   ]
  },
  {
   "cell_type": "code",
   "execution_count": 74,
   "id": "330e6453",
   "metadata": {},
   "outputs": [],
   "source": [
    "embeddings = load_HF_Embeddings()"
   ]
  },
  {
   "cell_type": "code",
   "execution_count": 75,
   "id": "7d7aba5f",
   "metadata": {},
   "outputs": [],
   "source": [
    "import faiss\n",
    "from langchain_community.docstore.in_memory import InMemoryDocstore\n",
    "from langchain_community.vectorstores import FAISS\n",
    "from uuid import uuid4\n",
    "\n",
    "index = faiss.IndexFlatL2(384)\n",
    "\n",
    "vector_store = FAISS(\n",
    "    embedding_function=embeddings,\n",
    "    index=index,\n",
    "    docstore=InMemoryDocstore(),\n",
    "    index_to_docstore_id={},\n",
    ")"
   ]
  },
  {
   "cell_type": "code",
   "execution_count": 76,
   "id": "b521f517",
   "metadata": {},
   "outputs": [
    {
     "data": {
      "text/plain": [
       "['ed9055da-3f71-4104-86ea-9f93b175be05',\n",
       " '3e193cde-3a3e-48a7-81a3-93947918e51d',\n",
       " '964e389c-4ecd-4371-bd78-28edf4e9092e']"
      ]
     },
     "execution_count": 76,
     "metadata": {},
     "output_type": "execute_result"
    }
   ],
   "source": [
    "uuids = [str(uuid4()) for _ in range(len(text))]\n",
    "\n",
    "vector_store.add_documents(documents=text, ids=uuids)\n",
    "\n"
   ]
  },
  {
   "cell_type": "code",
   "execution_count": 77,
   "id": "67e8b5b2",
   "metadata": {},
   "outputs": [],
   "source": [
    "job_description=\"\"\"\n",
    "\n",
    "We’re looking for a truly exceptional AI software engineer — the kind who’s cracked the code on\n",
    "building real, autonomous, agentic AI applications. Think beyond basic prompt engineering. We’re\n",
    "talking about systems that can reason, plan, take action, write and debug code, use tools, integrate\n",
    "APIs, and learn continuously — systems like Cursor, Devin, or AutoGPT—but production-grade.  You’ll\n",
    "own the end-to-end development of these intelligent systems. You’ll work at the intersection of\n",
    "LLMs, reasoning engines, memory, RAG, vector databases, tool orchestration, and scalable backend\n",
    "architecture. This role is for someone obsessed with pushing the limits of what AI can do, not just\n",
    "what it can say.  Responsibilities  Architect, build, and scale agentic AI applications using\n",
    "foundation models (OpenAI, Claude, etc.) Design systems that combine RAG, tool use, long-term\n",
    "memory, planning, and multi-step execution Develop and integrate with APIs, dev tools, and data\n",
    "systems (e.g., GitHub, Jira, Slack, CRMs, databases) Build custom orchestration layers for multi-\n",
    "agent collaboration, continuous learning, and task decomposition Optimize performance for latency,\n",
    "cost, and reliability in production Evaluate, fine-tune, and prompt-engineer foundation models for\n",
    "specific tasks Stay at the bleeding edge of LLM capabilities, agent frameworks, embeddings, and\n",
    "architecture patterns Collaborate closely with product, design, and domain experts to build magical\n",
    "AI-first user experiences Who You Are  You’ve already built a real, working agentic system — not\n",
    "just a GPT wrapper Fluent in Python, TypeScript, LangChain, LLM APIs, and vector databases like\n",
    "Pinecone, Weaviate, etc. Deep understanding of transformer models, tokenization, and how to push\n",
    "LLMs to their limits Experience building backend systems and scalable cloud infrastructure (e.g.,\n",
    "AWS, GCP, Docker) Ability to architect complex asynchronous workflows and memory systems You think\n",
    "like a hacker — fast, efficient, obsessed with real-world performance Ideally contributed to open-\n",
    "source agentic projects or published notable AI experiments Bonus: experience with real-time\n",
    "collaborative tools, browser automation, or dev tool integrations Why Join Us  Work with founders\n",
    "and engineers who deeply understand AI Build products that will change how people work, create, and\n",
    "think We ship fast, think long-term, and reward deep technical excellence Join at the ground floor\n",
    "of a fast-moving, AI-native startup with massive upside\n",
    "\n",
    "\"\"\""
   ]
  },
  {
   "cell_type": "code",
   "execution_count": 78,
   "id": "c754ea91",
   "metadata": {},
   "outputs": [],
   "source": [
    "jd_embedding=embeddings.embed_query(job_description)"
   ]
  },
  {
   "cell_type": "code",
   "execution_count": 79,
   "id": "63c0854a",
   "metadata": {},
   "outputs": [
    {
     "data": {
      "text/plain": [
       "384"
      ]
     },
     "execution_count": 79,
     "metadata": {},
     "output_type": "execute_result"
    }
   ],
   "source": [
    "len(embeddings.embed_query(job_description))"
   ]
  },
  {
   "cell_type": "code",
   "execution_count": 80,
   "id": "513648e1",
   "metadata": {},
   "outputs": [],
   "source": [
    "# Get top-k most similar resumes\n",
    "top_k = 10  # or all\n",
    "results = vector_store.similarity_search_with_score_by_vector(jd_embedding, k=top_k)"
   ]
  },
  {
   "cell_type": "code",
   "execution_count": 81,
   "id": "29e1ca31",
   "metadata": {},
   "outputs": [
    {
     "data": {
      "text/plain": [
       "[(Document(id='ed9055da-3f71-4104-86ea-9f93b175be05', metadata={'producer': 'Canva', 'creator': 'Canva', 'creationdate': '2025-07-01T13:30:22+00:00', 'title': 'Black and White Simple Business School Graduate Corporate Resume', 'moddate': '2025-07-01T13:30:22+00:00', 'keywords': 'DAGr7MiUKB4,BAGOo-AZu6Q,0', 'author': 'Hashir Khatri', 'source': 'Data\\\\resumes\\\\Muhammmad_Hashir.pdf', 'total_pages': 1, 'page': 0, 'page_label': '1'}, page_content='To pursue a role where I can integrate my technical skills in data analysis and machine learning with creative\\nproblem-solving to deliver meaningful insights and drive performance improvements, while gaining hands-on\\nexperience in the industry. \\nPandas\\nNumPy \\nMatplotlib\\nTensorFlow\\nKeras\\nScikit-Learn\\nSelenium\\nStreamlit\\nTransformers\\nBytewise Limited\\nData Science Intern\\nNLP Preprocessing App\\nLearning and implementing the given tasks and creating projects based on the provided\\nresources.erence to financial guidelines.\\nBuilt an NLP preprocessing tool using NLTK, supporting lemmatization, stemming, and stop words\\nremoval.\\nDesigned a Streamlit-based UI allowing users to upload text and view processed results interactively.\\nEcomile Monitor\\nBS Computer Science Won DS Competition in GDSC Code Jam\\nIntermediate - Pre Engineering\\nParticipated in Zindigi Prize Regionals\\nCertification in AI \\nMachine Learning Intern\\nFuel Prediction System\\nFinal Year\\nFeb 2022 – Feb 2026 \\n2019 – 2021 \\nSindh Madressatul Islam University\\nSM Government Science College\\nMehran University of Engineering and Technology\\nPIAIC - Presidential Initiative for AI and Computing\\nEfficiently sourced and synthesized diverse data for comprehensive analysis. \\nExecuted meticulous data preprocessing for integrity and gained insights for contextual significance. \\nApplied advanced predictive modeling to optimize fuel consumption forecasts\\nDeveloped a fuel prediction app using synthetic data to build and test the prototype.\\nImplemented machine learning models to enhance prediction accuracy and overall performance.\\nAchieved 70% accuracy on synthetic data, showing strong potential for real-world use.\\nSep-2023 - April-2024\\nMarch-2023 - July-2024 \\nAI ENGINEER\\n03313267635 · hashirgohar@gmail.com\\nKarachi, Pakistan\\nGithub: https://github.com/Muhammad-Hashir14\\nLinkedIn: www.linkedin.com/in/muhammad-hashir-54a08b26a\\nMuhammad Hashir\\nPROFESSIONAL EXPERIENCE\\nPROJECTS\\nEDUCATION & CERTIFICATIONS EXTRACURRICULAR ACTIVITIES\\nSKILLS\\nSindh Madressatul Islam University'),\n",
       "  np.float32(0.994825)),\n",
       " (Document(id='964e389c-4ecd-4371-bd78-28edf4e9092e', metadata={'producer': 'Canva', 'creator': 'Canva', 'creationdate': '2025-02-08T14:27:01+00:00', 'title': 'M.Hashir', 'moddate': '2025-02-08T14:27:01+00:00', 'keywords': 'DAGOs5KHHyQ,BAGOo-AZu6Q,0', 'author': 'Hashir Khatri', 'source': 'Data\\\\resumes\\\\M_Hashir.pdf', 'total_pages': 1, 'page': 0, 'page_label': '1'}, page_content='karachi, Pakistan | hashirgohar@gmail.com | +92 3313267635\\nMUHAMMAD HASHIR\\nDATA SCIENTIST / AI ENGINEER\\nTo pursue a role where I can integrate my technical skills in data analysis and machine learning with\\ncreative problem-solving to deliver meaningful insights and drive performance improvements, while\\ngaining hands-on experience in the industry.\\nEDUCATION\\nBS Computer Science | FINAL YEAR\\nSindh Madressatul Islam University\\nKarachi, Pakistan \\nFeb 2022 – Feb 2026 \\nIntermediate in Pre Engineering\\nSM Government Science College \\nKarachi, Pakistan\\n2019 – 2021 \\nCERTIFICATIONS\\nLINKS\\nSKILLS\\nWORK EXPERIENCE\\nEfficiently sourced and synthesized diverse data for comprehensive analysis. \\nExecuted meticulous data preprocessing for integrity and gained\\n       insights for contextual significance.\\nApplied advanced predictive modeling to optimize fuel consumption forecasts. \\nMachine Learning Intern | Ecomile Monitor - NEP-NICS Karachi Sep-2023 - April-2024\\nLearning and implementing the given tasks and creating projects\\n      based on the provided resources. \\nLinkedIn Github\\nMarch-2023 - July-2024\\nData Preprocessing/ EDA/ Feature Engineering\\nDashboard Creation\\nMachine Learning / Deep Learning\\nWeb Scraping\\nAPI Development\\nLLMs\\nTOOLS\\nPython\\nNumpy/ Pandas/ Matplotlib/ Seaborn\\nScikit Learn/ Tensorflow Keras\\nFlask/ Streamlit\\nPower BI\\nBeautiful Soup/ Selenium/ Requests\\nCertified Artificial Intelligence Developer\\nPresidential Initiative of Artificial Intelligence and Computing\\nKarachi, Pakistan \\nData Science Intern | Bytewise Limited'),\n",
       "  np.float32(1.0590686)),\n",
       " (Document(id='3e193cde-3a3e-48a7-81a3-93947918e51d', metadata={'producer': 'Microsoft® Word 2016', 'creator': 'Microsoft® Word 2016', 'creationdate': '2025-04-28T17:54:10+05:00', 'author': 'Talha Irfan', 'moddate': '2025-04-28T17:54:10+05:00', 'source': 'Data\\\\resumes\\\\MY_RESUME[1].pdf', 'total_pages': 1, 'page': 0, 'page_label': '1'}, page_content='MUHAMMAD TALHA IRFAN  \\nKarachi, Pakistan | +92 308 2733114 | muhammadtalha2715@gmail.com  \\nWEB DEVELOPER  \\nA Web Developer focused on frontend development with a specialization in React.js and Next.js. Skilled in building \\nresponsive, scalable, and visually engaging web applications. Seeking an opportunity to apply creative problem -solving and \\ntechnical expertise in a professional environment, while continuously learning new technologies and contributing to \\nimpactful projects \\nEDUCATION  \\nBS COMPUTER SCIENCE                                                                    INTERMEDIATE \\nSindh Madressatul Islam University                                                Nabi Bagh Z.M Government Scie nce College \\n7th Semester                                                                                       F.Sc (Pre -Engineering) \\n2022-2026                                                                                           2019-2021 \\nEXPERIENCE  \\nReact Js Intern | 360XpertSolutions \\nFebruary 2025 – Present \\n\\uf0b7 Developing responsive and dynamic user interfaces using React.js and Next.js frameworks.  \\n\\uf0b7 Integrating APIs and enhancing front-end animations to improve user experience and performance.  \\n\\uf0b7 Learning and implementing backend functionalities using Node.js to support full-stack development. \\nFrontend Developer | CodeBite  (NEP-NICS) \\nOctober 2023 – April 2024 \\n\\uf0b7 Designed and developed user interfaces focusing on responsiveness, layout optimization, and usability. \\n\\uf0b7 Collaborated with design and backend teams to ensure seamless integration of UI/UX elements.  \\n\\uf0b7 Enhanced website performance through clean code practices, resulting in improved load times and accessibility.  \\nWeb Developer Intern | Linuro Systems  \\nApril 2021 – February 2023 \\n\\uf0b7 Built static and responsive websites using HTML, CSS, Bootstrap, and JavaScript.  \\n\\uf0b7 Self-learned advanced techniques to enhance project quality and independently implemented improvements.  \\n\\uf0b7 Successfully transitioned from intern to full-time Web Developer after demonstrating strong technical skills.  \\n \\nCERTIFICATIONS                               SKILLS  \\n\\uf0b7 Web Application Development From SMIT          \\n\\uf0b7 Graphic Designing From Ibrahim Jamal institute for \\nInformation technology                                                  \\n\\uf0b7 MS- Office From Haji Ayub Memorial Institute \\n\\uf0b7 HTML / CSS  \\n\\uf0b7 Javascript    \\n\\uf0b7 Python  \\n\\uf0b7 Bootstrap     \\n \\n\\uf0b7 React Js    \\n\\uf0b7 Firebase    \\n\\uf0b7 Adobe Photoshop    \\n\\uf0b7 Adobe Illustrator'),\n",
       "  np.float32(1.3049066))]"
      ]
     },
     "execution_count": 81,
     "metadata": {},
     "output_type": "execute_result"
    }
   ],
   "source": [
    "results"
   ]
  },
  {
   "cell_type": "code",
   "execution_count": 82,
   "id": "f485d513",
   "metadata": {},
   "outputs": [],
   "source": [
    "def l2_to_similarity(distance):\n",
    "    # Assume max possible distance ≈ 2 for normalized vectors\n",
    "    similarity = 1 - min(distance / 2, 1)\n",
    "    return round(similarity * 100, 2)\n"
   ]
  },
  {
   "cell_type": "code",
   "execution_count": 83,
   "id": "0558c4e2",
   "metadata": {},
   "outputs": [],
   "source": [
    "import os\n",
    "import re\n",
    "\n",
    "def find_perc(results):\n",
    "    ranks = []\n",
    "    for doc, score in results:\n",
    "        ranks.append({\n",
    "            \"Resume\": os.path.basename(doc.metadata[\"source\"]),\n",
    "            \"Similarity\": l2_to_similarity(score)\n",
    "        })\n",
    "    return ranks\n"
   ]
  },
  {
   "cell_type": "code",
   "execution_count": 84,
   "id": "aff51fd4",
   "metadata": {},
   "outputs": [],
   "source": [
    "ranks=find_perc(results)"
   ]
  },
  {
   "cell_type": "code",
   "execution_count": 100,
   "id": "50bb96a3",
   "metadata": {},
   "outputs": [
    {
     "data": {
      "text/plain": [
       "[{'Resume': 'Muhammmad_Hashir.pdf', 'Similarity': np.float32(50.26)},\n",
       " {'Resume': 'M_Hashir.pdf', 'Similarity': np.float32(47.05)},\n",
       " {'Resume': 'MY_RESUME[1].pdf', 'Similarity': np.float32(34.75)}]"
      ]
     },
     "execution_count": 100,
     "metadata": {},
     "output_type": "execute_result"
    }
   ],
   "source": [
    "ranks"
   ]
  },
  {
   "cell_type": "code",
   "execution_count": 103,
   "id": "9795275f",
   "metadata": {},
   "outputs": [
    {
     "data": {
      "text/plain": [
       "'Muhammmad_Hashir.pdf'"
      ]
     },
     "execution_count": 103,
     "metadata": {},
     "output_type": "execute_result"
    }
   ],
   "source": [
    "ranks[0][\"Resume\"]"
   ]
  },
  {
   "cell_type": "code",
   "execution_count": 85,
   "id": "d210df84",
   "metadata": {},
   "outputs": [],
   "source": [
    "def get_max_similarity(resume_list):\n",
    "    if not resume_list:\n",
    "        return None  # Return None if list is empty\n",
    "\n",
    "    max_resume = max(resume_list, key=lambda x: x['Similarity'])\n",
    "    return max_resume\n"
   ]
  },
  {
   "cell_type": "code",
   "execution_count": 86,
   "id": "e0b8d275",
   "metadata": {},
   "outputs": [],
   "source": [
    "bestresume=get_max_similarity(ranks)"
   ]
  },
  {
   "cell_type": "code",
   "execution_count": 87,
   "id": "15051b71",
   "metadata": {},
   "outputs": [
    {
     "data": {
      "text/plain": [
       "{'Resume': 'Muhammmad_Hashir.pdf', 'Similarity': np.float32(50.26)}"
      ]
     },
     "execution_count": 87,
     "metadata": {},
     "output_type": "execute_result"
    }
   ],
   "source": [
    "bestresume"
   ]
  },
  {
   "cell_type": "code",
   "execution_count": 88,
   "id": "0811f994",
   "metadata": {},
   "outputs": [],
   "source": [
    "def find_content(results, br):\n",
    "    for doc,number in results:\n",
    "        if br[\"Resume\"] == os.path.basename(doc.metadata[\"source\"]):\n",
    "            print(br[\"Resume\"])\n",
    "            content = doc.page_content\n",
    "    return content\n",
    "        "
   ]
  },
  {
   "cell_type": "code",
   "execution_count": 89,
   "id": "5c223061",
   "metadata": {},
   "outputs": [
    {
     "name": "stdout",
     "output_type": "stream",
     "text": [
      "Muhammmad_Hashir.pdf\n"
     ]
    }
   ],
   "source": [
    "context_string=find_content(results, bestresume)"
   ]
  },
  {
   "cell_type": "code",
   "execution_count": 90,
   "id": "796c8426",
   "metadata": {},
   "outputs": [
    {
     "data": {
      "text/plain": [
       "'To pursue a role where I can integrate my technical skills in data analysis and machine learning with creative\\nproblem-solving to deliver meaningful insights and drive performance improvements, while gaining hands-on\\nexperience in the industry. \\nPandas\\nNumPy \\nMatplotlib\\nTensorFlow\\nKeras\\nScikit-Learn\\nSelenium\\nStreamlit\\nTransformers\\nBytewise Limited\\nData Science Intern\\nNLP Preprocessing App\\nLearning and implementing the given tasks and creating projects based on the provided\\nresources.erence to financial guidelines.\\nBuilt an NLP preprocessing tool using NLTK, supporting lemmatization, stemming, and stop words\\nremoval.\\nDesigned a Streamlit-based UI allowing users to upload text and view processed results interactively.\\nEcomile Monitor\\nBS Computer Science Won DS Competition in GDSC Code Jam\\nIntermediate - Pre Engineering\\nParticipated in Zindigi Prize Regionals\\nCertification in AI \\nMachine Learning Intern\\nFuel Prediction System\\nFinal Year\\nFeb 2022 – Feb 2026 \\n2019 – 2021 \\nSindh Madressatul Islam University\\nSM Government Science College\\nMehran University of Engineering and Technology\\nPIAIC - Presidential Initiative for AI and Computing\\nEfficiently sourced and synthesized diverse data for comprehensive analysis. \\nExecuted meticulous data preprocessing for integrity and gained insights for contextual significance. \\nApplied advanced predictive modeling to optimize fuel consumption forecasts\\nDeveloped a fuel prediction app using synthetic data to build and test the prototype.\\nImplemented machine learning models to enhance prediction accuracy and overall performance.\\nAchieved 70% accuracy on synthetic data, showing strong potential for real-world use.\\nSep-2023 - April-2024\\nMarch-2023 - July-2024 \\nAI ENGINEER\\n03313267635 · hashirgohar@gmail.com\\nKarachi, Pakistan\\nGithub: https://github.com/Muhammad-Hashir14\\nLinkedIn: www.linkedin.com/in/muhammad-hashir-54a08b26a\\nMuhammad Hashir\\nPROFESSIONAL EXPERIENCE\\nPROJECTS\\nEDUCATION & CERTIFICATIONS EXTRACURRICULAR ACTIVITIES\\nSKILLS\\nSindh Madressatul Islam University'"
      ]
     },
     "execution_count": 90,
     "metadata": {},
     "output_type": "execute_result"
    }
   ],
   "source": [
    "context_string"
   ]
  },
  {
   "cell_type": "code",
   "execution_count": 91,
   "id": "2bf977ac",
   "metadata": {},
   "outputs": [
    {
     "data": {
      "text/plain": [
       "True"
      ]
     },
     "execution_count": 91,
     "metadata": {},
     "output_type": "execute_result"
    }
   ],
   "source": [
    "from dotenv import load_dotenv\n",
    "import getpass\n",
    "load_dotenv()"
   ]
  },
  {
   "cell_type": "code",
   "execution_count": 92,
   "id": "6393ae2e",
   "metadata": {},
   "outputs": [],
   "source": [
    "if \"GOOGLE_API_KEY\" not in os.environ:\n",
    "    os.environ[\"GOOGLE_API_KEY\"] = os.environ.get(\"GEMINI_API_KEY\")"
   ]
  },
  {
   "cell_type": "code",
   "execution_count": 93,
   "id": "14feb327",
   "metadata": {},
   "outputs": [],
   "source": [
    "from langchain_google_genai import ChatGoogleGenerativeAI\n",
    "\n",
    "llm = ChatGoogleGenerativeAI(\n",
    "    model=\"gemini-2.0-flash\",\n",
    "    temperature=0,\n",
    "    max_tokens=None,\n",
    "    timeout=None,\n",
    "    max_retries=2,\n",
    "    # other params...\n",
    ")"
   ]
  },
  {
   "cell_type": "code",
   "execution_count": 94,
   "id": "77199b4a",
   "metadata": {},
   "outputs": [
    {
     "data": {
      "text/plain": [
       "AIMessage(content='AI, or Artificial Intelligence, is a broad field of computer science focused on creating machines that can perform tasks that typically require human intelligence.  It\\'s about making computers think and act more like humans.\\n\\nHere\\'s a breakdown of key aspects:\\n\\n*   **Definition:** AI refers to the ability of a computer or machine to mimic human cognitive functions such as learning, problem-solving, decision-making, and perception.\\n\\n*   **Goals:** The primary goals of AI research include:\\n    *   **Reasoning:**  The ability to draw inferences, solve problems, and make decisions.\\n    *   **Learning:**  The ability to acquire knowledge and improve performance over time.\\n    *   **Problem-solving:**  The ability to identify and solve complex problems.\\n    *   **Perception:**  The ability to interpret sensory input (e.g., vision, speech).\\n    *   **Natural Language Processing (NLP):** The ability to understand and generate human language.\\n    *   **Robotics:**  The design and construction of robots that can perform tasks autonomously.\\n\\n*   **Types of AI:**  AI is often categorized based on its capabilities:\\n    *   **Narrow or Weak AI:** Designed for a specific task (e.g., spam filtering, recommendation systems).  This is the type of AI we see most commonly today.\\n    *   **General or Strong AI:** Possesses human-level intelligence and can perform any intellectual task that a human being can.  This is still largely theoretical.\\n    *   **Super AI:**  Surpasses human intelligence in all aspects.  This is also theoretical and often explored in science fiction.\\n\\n*   **Key Techniques and Approaches:**\\n    *   **Machine Learning (ML):**  Algorithms that allow computers to learn from data without being explicitly programmed.  Subfields include:\\n        *   **Supervised Learning:**  Training a model on labeled data.\\n        *   **Unsupervised Learning:**  Discovering patterns in unlabeled data.\\n        *   **Reinforcement Learning:**  Training an agent to make decisions in an environment to maximize a reward.\\n    *   **Deep Learning:**  A type of machine learning that uses artificial neural networks with multiple layers to analyze data.  It\\'s particularly effective for tasks like image recognition and natural language processing.\\n    *   **Natural Language Processing (NLP):**  Techniques for enabling computers to understand, interpret, and generate human language.\\n    *   **Computer Vision:**  Enabling computers to \"see\" and interpret images and videos.\\n    *   **Robotics:**  Combining AI with physical robots to perform tasks in the real world.\\n    *   **Expert Systems:**  Computer programs that emulate the decision-making ability of a human expert.\\n\\n*   **Applications:** AI is used in a wide range of industries and applications, including:\\n    *   **Healthcare:**  Diagnosis, drug discovery, personalized medicine.\\n    *   **Finance:**  Fraud detection, algorithmic trading, risk management.\\n    *   **Transportation:**  Self-driving cars, traffic management.\\n    *   **Retail:**  Recommendation systems, personalized shopping experiences.\\n    *   **Manufacturing:**  Robotics, quality control, predictive maintenance.\\n    *   **Customer Service:**  Chatbots, virtual assistants.\\n    *   **Entertainment:**  Video games, music composition, movie recommendations.\\n\\n*   **Ethical Considerations:**  As AI becomes more powerful, it raises important ethical concerns, such as:\\n    *   **Bias:**  AI systems can perpetuate and amplify existing biases in data.\\n    *   **Job displacement:**  AI could automate many jobs currently performed by humans.\\n    *   **Privacy:**  AI systems often collect and analyze large amounts of personal data.\\n    *   **Autonomous weapons:**  The development of AI-powered weapons raises serious ethical questions.\\n    *   **Transparency and Explainability:**  Understanding how AI systems make decisions is crucial for trust and accountability.\\n\\nIn summary, AI is a rapidly evolving field with the potential to transform many aspects of our lives.  It\\'s important to understand both its capabilities and its limitations, as well as the ethical implications of its development and deployment.', additional_kwargs={}, response_metadata={'prompt_feedback': {'block_reason': 0, 'safety_ratings': []}, 'finish_reason': 'STOP', 'model_name': 'gemini-2.0-flash', 'safety_ratings': []}, id='run--2a3f0d24-2521-4606-8221-af442c1d6c2a-0', usage_metadata={'input_tokens': 3, 'output_tokens': 885, 'total_tokens': 888, 'input_token_details': {'cache_read': 0}})"
      ]
     },
     "execution_count": 94,
     "metadata": {},
     "output_type": "execute_result"
    }
   ],
   "source": [
    "llm.invoke(\"What is AI\")"
   ]
  },
  {
   "cell_type": "code",
   "execution_count": 95,
   "id": "ba92a66f",
   "metadata": {},
   "outputs": [],
   "source": [
    "from langchain_core.prompts import ChatPromptTemplate,SystemMessagePromptTemplate\n",
    "from langchain.schema import SystemMessage, HumanMessage\n",
    "from langchain.chains.combine_documents import create_stuff_documents_chain\n",
    "from langchain.chains import create_retrieval_chain"
   ]
  },
  {
   "cell_type": "code",
   "execution_count": 96,
   "id": "1b9f18ba",
   "metadata": {},
   "outputs": [],
   "source": [
    "messages = [\n",
    "    SystemMessage(content=(\n",
    "        \"You are a resume analyzer. \"\n",
    "        \"You will be given resume text which matches the job description. \"\n",
    "        \"Similarity percentage will be given between JD and resume so analyze accordingly but remeber this is the best resume among all. \"\n",
    "        \"Give reasons why this resume has this percent and how this resume is a great fit.\"\n",
    "        \"Don't behave like a chat model start with name of candidiate directly\\n\\n\"\n",
    "        f\"{context_string}\"\n",
    "    )),\n",
    "    HumanMessage(content=\"51.45\")  # Minimal dummy prompt\n",
    "]"
   ]
  },
  {
   "cell_type": "code",
   "execution_count": 97,
   "id": "f368c33d",
   "metadata": {},
   "outputs": [],
   "source": [
    "response = llm(messages)\n"
   ]
  },
  {
   "cell_type": "code",
   "execution_count": 98,
   "id": "5e949dc6",
   "metadata": {},
   "outputs": [
    {
     "data": {
      "text/plain": [
       "\"Muhammad Hashir\\n\\nThis resume achieves a 51.45% similarity score with the provided job description, making it a promising candidate. Here's a breakdown of why this resume is a good fit and areas where it excels:\\n\\n**Strengths and Fit:**\\n\\n*   **Skills Alignment:** The resume showcases proficiency in key skills mentioned in the job description, including:\\n    *   Pandas, NumPy, Matplotlib, Scikit-Learn: These are fundamental libraries for data analysis and machine learning, indicating a solid foundation.\\n    *   TensorFlow, Keras: Demonstrates experience with deep learning frameworks, essential for more advanced machine learning tasks.\\n    *   Streamlit: Highlights the ability to create interactive data applications, a valuable skill for presenting insights.\\n*   **Relevant Experience:**\\n    *   **Data Science Intern at Bytewise Limited:** This experience directly aligns with the job's focus on data analysis and machine learning. The NLP Preprocessing App project demonstrates practical application of NLP techniques (lemmatization, stemming, stop word removal) and UI development with Streamlit.\\n    *   **Machine Learning Intern:** The Fuel Prediction System project showcases experience in data sourcing, preprocessing, predictive modeling, and building a prototype application. Achieving 70% accuracy, even on synthetic data, is a quantifiable achievement.\\n*   **Projects:** The inclusion of personal projects demonstrates initiative and a passion for applying skills outside of formal work experience.\\n*   **Education:** A BS in Computer Science provides a strong theoretical foundation for data science and machine learning.\\n*   **Extracurricular Activities:** Participation in competitions like GDSC Code Jam and Zindigi Prize Regionals shows problem-solving skills and a competitive spirit.\\n*   **Clear and Concise:** The resume is well-organized and easy to read, making it simple to identify relevant skills and experience.\\n\\n**Why This Resume is a Great Fit:**\\n\\n*   **Practical Application:** The resume emphasizes practical application of skills through projects and internships. This is crucial because it demonstrates the ability to translate theoretical knowledge into real-world solutions.\\n*   **Quantifiable Results:** The 70% accuracy achieved in the Fuel Prediction System project provides concrete evidence of the candidate's ability to develop effective machine learning models.\\n*   **Relevant Projects:** The projects directly align with the job's requirements, showcasing experience in NLP, data preprocessing, predictive modeling, and UI development.\\n*   **Continuous Learning:** The inclusion of a Certification in AI indicates a commitment to continuous learning and staying up-to-date with the latest advancements in the field.\\n*   **Well-Rounded Profile:** The combination of technical skills, relevant experience, projects, and extracurricular activities paints a picture of a well-rounded candidate with a strong passion for data science and machine learning.\""
      ]
     },
     "execution_count": 98,
     "metadata": {},
     "output_type": "execute_result"
    }
   ],
   "source": [
    "response.content"
   ]
  },
  {
   "cell_type": "code",
   "execution_count": 99,
   "id": "5f8af33b",
   "metadata": {},
   "outputs": [
    {
     "data": {
      "text/plain": [
       "'C:\\\\Users\\\\PMLS\\\\AppData\\\\Local\\\\Temp\\\\tmp2vlnpgpu'"
      ]
     },
     "execution_count": 99,
     "metadata": {},
     "output_type": "execute_result"
    }
   ],
   "source": [
    "import tempfile\n",
    "tempdir = tempfile.TemporaryDirectory()\n",
    "tempdir.name"
   ]
  },
  {
   "cell_type": "markdown",
   "id": "a9273eb7",
   "metadata": {},
   "source": []
  }
 ],
 "metadata": {
  "kernelspec": {
   "display_name": "appenv",
   "language": "python",
   "name": "python3"
  },
  "language_info": {
   "codemirror_mode": {
    "name": "ipython",
    "version": 3
   },
   "file_extension": ".py",
   "mimetype": "text/x-python",
   "name": "python",
   "nbconvert_exporter": "python",
   "pygments_lexer": "ipython3",
   "version": "3.12.8"
  }
 },
 "nbformat": 4,
 "nbformat_minor": 5
}
